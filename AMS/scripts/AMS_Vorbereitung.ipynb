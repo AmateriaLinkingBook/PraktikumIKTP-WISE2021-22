{
 "cells": [
  {
   "cell_type": "markdown",
   "id": "e17a8c0d",
   "metadata": {},
   "source": [
    "# Vorbereitung AMS"
   ]
  },
  {
   "cell_type": "markdown",
   "id": "7431de25",
   "metadata": {},
   "source": [
    "## Dichteabschätzung\n",
    "$$\n",
    "p \\cdot V = N \\cdot k_{b} \\cdot T \\text{ (Thermische Zustandsgleichung idealer Gase)}\\\\\n",
    "\\Leftrightarrow p \\cdot V = m \\cdot R_{S} \\cdot T\\\\\n",
    "\\Leftrightarrow \\rho = \\frac{p}{R_{S} T} \\\\\n",
    "R_{S} = \\frac{R_{m}}{M} = \\frac{N_{A} k_{b}}{M}, M = m_{Molekül} \\cdot N_{A} \\\\\n",
    "R_{S} = \\frac{k_{b}}{m_{Molekül}}\n",
    "$$"
   ]
  },
  {
   "cell_type": "code",
   "execution_count": 133,
   "id": "9066c872",
   "metadata": {},
   "outputs": [
    {
     "name": "stdout",
     "output_type": "stream",
     "text": [
      "0.05804399997994124\n",
      "rho = 0.0735725805828019 kg/m^3 = 7.35725805828019e-05 g/cm^3\n"
     ]
    }
   ],
   "source": [
    "import numpy as np\n",
    "\n",
    "u = 1.66053906660e-27 # atomare Masseneinheit\n",
    "\n",
    "p = 31.0e-3 # in bar\n",
    "T = 21.0 # in °C\n",
    "m = ((4 * 12.011) + (10 * 1.0)) * u # in kg\n",
    "\n",
    "C_to_K = 273.15\n",
    "bar_to_pascal = 1.0e5 # (1 bar = 10^5 pasc)\n",
    "R_m = 8.31446261815324 # kg m^2 / (s^2 mol K)\n",
    "N_A = 6.02214076e23 # Avogadro-Konst.\n",
    "k_B = 1.380649e-23 # Boltzmann-Konstante\n",
    "\n",
    "rho = (p * bar_to_pascal) / ((k_B / m) * (T + C_to_K))\n",
    "print(m*N_A)\n",
    "print(\"rho =\", rho, \"kg/m^3 =\", rho/1000.0, \"g/cm^3\")"
   ]
  },
  {
   "cell_type": "markdown",
   "id": "4fab8c85",
   "metadata": {},
   "source": [
    "## Berechnung Energie der Nuklide nach Beschleuniger"
   ]
  },
  {
   "cell_type": "code",
   "execution_count": 125,
   "id": "d80ae174",
   "metadata": {},
   "outputs": [
    {
     "name": "stdout",
     "output_type": "stream",
     "text": [
      "total energy =  2.006786623819666e-12  J  =  12.525376923076925  MeV\n"
     ]
    }
   ],
   "source": [
    "e_charge = 1.602176634e-19\n",
    "U_ion_source = 29.0e3\n",
    "U_acc = 5.2479e6\n",
    "\n",
    "m_ion_plus = 10 # Be+\n",
    "m_molecule_minus = 10+16 # BeO^-\n",
    "Z_ion_plus = 2\n",
    "\n",
    "E_tot = (e_charge * (U_ion_source + U_acc) * (m_ion_plus / m_molecule_minus)) + (U_acc * (Z_ion_plus  * e_charge))\n",
    "\n",
    "print(\"total energy = \", E_tot, \" J  = \", (E_tot/e_charge)/1.0e6, \" MeV\")"
   ]
  },
  {
   "cell_type": "markdown",
   "id": "198aeb0d",
   "metadata": {},
   "source": [
    "## B-Feld auf nieder-energie Seite\n",
    "kei  Mg, N oder Edelgase, diese bilden keine negativen Ionen"
   ]
  },
  {
   "cell_type": "code",
   "execution_count": 126,
   "id": "075ce2e2",
   "metadata": {},
   "outputs": [
    {
     "name": "stdout",
     "output_type": "stream",
     "text": [
      "Impuls: 1.9641006832411875e-20 m*kg/s\n",
      "B-Feld: -0.30647380594011137 Tesla\n"
     ]
    }
   ],
   "source": [
    "R = 0.4\n",
    "Z = -1\n",
    "E = e_charge*U_ion_source\n",
    "m = 25*u\n",
    "p = np.sqrt(E*2*m)\n",
    "print(\"Impuls:\", p, \"m*kg/s\")\n",
    "\n",
    "B = p/(R*Z*e_charge)\n",
    "print(\"B-Feld:\", B, \"Tesla\")"
   ]
  },
  {
   "cell_type": "code",
   "execution_count": 127,
   "id": "605cb877",
   "metadata": {},
   "outputs": [
    {
     "name": "stdout",
     "output_type": "stream",
     "text": [
      "48.84\n"
     ]
    }
   ],
   "source": [
    "I = 61.05*(4/5)\n",
    "print(I)"
   ]
  },
  {
   "cell_type": "code",
   "execution_count": 128,
   "id": "e4e8f6cb",
   "metadata": {},
   "outputs": [
    {
     "name": "stdout",
     "output_type": "stream",
     "text": [
      "13.045053094193145\n"
     ]
    }
   ],
   "source": [
    "print(25*(44.1/61.05)**2)\n"
   ]
  },
  {
   "cell_type": "markdown",
   "id": "f7fe5d6e",
   "metadata": {},
   "source": [
    "Interessant: Al-, AlO-  Weil Al schwer aus dem Quarz zu lösen,\n",
    "             BeO-, Beo2-"
   ]
  },
  {
   "cell_type": "markdown",
   "id": "e470de25",
   "metadata": {},
   "source": [
    "## Berechnung Energieverlust in SiN-Folie"
   ]
  },
  {
   "cell_type": "code",
   "execution_count": 129,
   "id": "2ef086c1",
   "metadata": {},
   "outputs": [
    {
     "name": "stdout",
     "output_type": "stream",
     "text": [
      "766.6986\n",
      "Energy loss in foil: 766.6986 keV\n",
      "Energy of particle after loss in foil: 11.758678323076925 MeV\n"
     ]
    }
   ],
   "source": [
    "dE_dx = 5.986e-1 + 7.661e2 # (SRIM, in keV/um)\n",
    "print(dE_dx)\n",
    "dicke = 1.0 # in um\n",
    "E_loss = dE_dx * dicke\n",
    "print(\"Energy loss in foil:\", E_loss, \"keV\")\n",
    "E_after_loss = (E_tot/e_charge)/1.0e6 - (E_loss/1000)\n",
    "print(\"Energy of particle after loss in foil:\", E_after_loss, \"MeV\")"
   ]
  },
  {
   "cell_type": "markdown",
   "id": "82617bde",
   "metadata": {},
   "source": [
    "## Berechnung Spannung für ESA"
   ]
  },
  {
   "cell_type": "code",
   "execution_count": 130,
   "id": "c7e42bda",
   "metadata": {},
   "outputs": [
    {
     "name": "stdout",
     "output_type": "stream",
     "text": [
      "Spannung die angelegt werden muss:  40703.11727218935 V\n"
     ]
    }
   ],
   "source": [
    "Z_ion = 4\n",
    "d_plate = 0.036\n",
    "m = 10*u\n",
    "\n",
    "U_ablenk = 2*((E_after_loss*1.0e6)*e_charge)*d_plate/(Z_ion*e_charge*2.6)\n",
    "U_anleg = U_ablenk/2.0\n",
    "print(\"Spannung die angelegt werden muss: \", U_anleg, \"V\")"
   ]
  },
  {
   "cell_type": "markdown",
   "id": "49a75c42",
   "metadata": {},
   "source": [
    "## Berechnung der Eindringtiefe Detektor, Beryllium"
   ]
  },
  {
   "cell_type": "code",
   "execution_count": 131,
   "id": "e17daced",
   "metadata": {},
   "outputs": [
    {
     "name": "stdout",
     "output_type": "stream",
     "text": [
      "flugweite: 577.749350601444 mm = 57.7749350601444 cm\n"
     ]
    }
   ],
   "source": [
    "dE_dx = 2.034e-2 + 1.256e-5 # (SRIM, in MeV/mm)\n",
    "flug_weite = E_after_loss / dE_dx\n",
    "print(\"flugweite:\", flug_weite, \"mm =\", flug_weite/10, \"cm\")"
   ]
  },
  {
   "cell_type": "markdown",
   "id": "1e96da4d",
   "metadata": {},
   "source": [
    "### Berechnung Eindringtiefe Bor"
   ]
  },
  {
   "cell_type": "code",
   "execution_count": 132,
   "id": "5e3d2015",
   "metadata": {},
   "outputs": [
    {
     "name": "stdout",
     "output_type": "stream",
     "text": [
      "flugweite: 242.81349895537002 mm = 24.281349895537 cm\n"
     ]
    }
   ],
   "source": [
    "dE_dx = 4.839e-2 + 3.679e-5 # (SRIM, in MeV/mm)\n",
    "flug_weite = E_after_loss / dE_dx\n",
    "print(\"flugweite:\", flug_weite, \"mm =\", flug_weite/10, \"cm\")"
   ]
  },
  {
   "cell_type": "code",
   "execution_count": null,
   "id": "4e466586",
   "metadata": {},
   "outputs": [],
   "source": []
  }
 ],
 "metadata": {
  "kernelspec": {
   "display_name": "Python 3 (ipykernel)",
   "language": "python",
   "name": "python3"
  },
  "language_info": {
   "codemirror_mode": {
    "name": "ipython",
    "version": 3
   },
   "file_extension": ".py",
   "mimetype": "text/x-python",
   "name": "python",
   "nbconvert_exporter": "python",
   "pygments_lexer": "ipython3",
   "version": "3.9.5"
  }
 },
 "nbformat": 4,
 "nbformat_minor": 5
}
